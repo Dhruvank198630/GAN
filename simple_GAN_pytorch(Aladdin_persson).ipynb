{
  "nbformat": 4,
  "nbformat_minor": 0,
  "metadata": {
    "colab": {
      "provenance": [],
      "gpuType": "T4",
      "authorship_tag": "ABX9TyM6HIJA3Rpy1bcV21edmlRr"
    },
    "kernelspec": {
      "name": "python3",
      "display_name": "Python 3"
    },
    "language_info": {
      "name": "python"
    },
    "accelerator": "GPU"
  },
  "cells": [
    {
      "cell_type": "code",
      "execution_count": null,
      "metadata": {
        "id": "ifo6N4ugeiuE"
      },
      "outputs": [],
      "source": [
        "import torch\n",
        "import torch.nn as nn\n",
        "import torch.optim as optim\n",
        "import torchvision\n",
        "import torchvision.datasets as datasets\n",
        "import torchvision.transforms as transforms\n",
        "from torch.utils.data import DataLoader\n",
        "from torch.utils.tensorboard import SummaryWriter"
      ]
    },
    {
      "cell_type": "code",
      "source": [
        "class discriminator(nn.Module):\n",
        "  def __init__(self, img_dim):\n",
        "    super().__init__()\n",
        "    self.disc = nn.Sequential(\n",
        "        nn.Linear(img_dim, 128),\n",
        "        nn.LeakyReLU(0.01),\n",
        "        nn.Linear(128, 1),\n",
        "        nn.Sigmoid(),\n",
        "    )\n",
        "  def forward(self, x):\n",
        "    return self.disc(x)"
      ],
      "metadata": {
        "id": "RciFtaA3iseJ"
      },
      "execution_count": null,
      "outputs": []
    },
    {
      "cell_type": "code",
      "source": [
        "class generator(nn.Module):\n",
        "  def __init__(self, z_dim, img_dim):\n",
        "    super().__init__()\n",
        "    self.gen = nn.Sequential(\n",
        "        nn.Linear(z_dim, 128),\n",
        "        nn.LeakyReLU(0.01),\n",
        "        nn.Linear(128, img_dim),\n",
        "        nn.Tanh(),\n",
        "    )\n",
        "\n",
        "  def forward(self, x):\n",
        "    return self.gen(x)"
      ],
      "metadata": {
        "id": "Fy3xovdPjxFf"
      },
      "execution_count": null,
      "outputs": []
    },
    {
      "cell_type": "code",
      "source": [
        "device = 'cuda' if torch.cuda.is_available else 'cpu'\n",
        "lr = 3e-4\n",
        "z_dim = 64 # 32, 128, 256\n",
        "image_dim = 28 * 28 * 1 # 784\n",
        "BATCH_SIZE = 32\n",
        "EPOCHS = 50"
      ],
      "metadata": {
        "id": "rknmj1yQnGTS"
      },
      "execution_count": null,
      "outputs": []
    },
    {
      "cell_type": "code",
      "source": [
        "disc = discriminator(image_dim).to(device)\n",
        "gen = generator(z_dim, image_dim).to(device)\n",
        "fixed_noise = torch.randn((BATCH_SIZE, z_dim)).to(device)\n",
        "transform_pipeline = transforms.Compose(\n",
        "        [\n",
        "            transforms.ToTensor(),\n",
        "            transforms.Normalize((0.5), (0.5))\n",
        "        ]\n",
        "    )\n",
        "\n",
        "dataset = datasets.MNIST(root='dataset/', transform=transform_pipeline, download=True)\n",
        "\n",
        "loader = DataLoader(dataset, batch_size=BATCH_SIZE, shuffle=True)\n",
        "opt_disc = optim.Adam(disc.parameters(), lr=lr)\n",
        "opt_gen = optim.Adam(gen.parameters(), lr=lr)\n",
        "criterion = nn.BCELoss()\n",
        "writer_fake = SummaryWriter(f\"runs/GAN_MNIST/fake\")\n",
        "writer_real = SummaryWriter(f\"runs/GAN_MNIST/real\")\n",
        "step = 0\n"
      ],
      "metadata": {
        "id": "f7KkZVDqnGaT"
      },
      "execution_count": null,
      "outputs": []
    },
    {
      "cell_type": "code",
      "source": [
        "for epoch in range(num_epochs):\n",
        "  for batch_idx, (real, _) in enumerate(loader): # real = images, _ = labels\n",
        "    real = real.view(-1, 784).to(device)\n",
        "    batch_size = real.shape[0]\n",
        "\n",
        "    ### we need to maximize discriminator loss which is log(D(real)) + log(1 - D(G(z)))\n",
        "\n",
        "    ### where z is the random noise to be given as input to the generator to generate fake image\n",
        "    noise = torch.randn(BATCH_SIZE, z_dim).to(device)\n",
        "    fake = gen(noise)\n",
        "    disc_real = disc(real).view(-1) # D(real)\n",
        "    lossD_real = criterion(disc_real, torch.ones_like(disc_real)) # log(D(real))\n",
        "\n",
        "    disc_fake = disc(fake.detach()).view(-1) # D(G(z))\n",
        "    lossD_fake = criterion(disc_fake, torch.zeros_like(disc_fake)) # log(1 - D(G(z)))\n",
        "\n",
        "    lossD = (lossD_real + lossD_fake) / 2\n",
        "    disc.zero_grad()\n",
        "    lossD.backward()\n",
        "    opt_disc.step()\n",
        "\n",
        "    ### training generator : min log(1 - D(G(z))) <-> max log(D(G(z))\n",
        "    output = disc(fake).view(-1)\n",
        "    lossG = criterion(output, torch.ones_like(output))\n",
        "    gen.zero_grad()\n",
        "    lossG.backward()\n",
        "    opt_gen.step()\n",
        "\n",
        "\n",
        "    if batch_idx == 0:\n",
        "      print(f\"Epoch [{epoch}/{num_epochs}] Batch {batch_idx}/{len(Loader)} \\Loss D: {lossD:.4f}, loss G: {lossG:.4f}\")\n",
        "\n",
        "      with torch.no_grad():\n",
        "        fake = gen(fixed_noise).reshape(-1, 1, 28, 28)\n",
        "        data = real.reshape(-1, 1, 28, 28)\n",
        "        img_grid_fake = torchvision.utils.make_grid(fake, normalize=True)\n",
        "        img_grid_real = torchvision.utils.make_grid(data, normalize=True)\n",
        "\n",
        "        writer_fake.add_image(\n",
        "            \"Mnist Fake Images\", img_grid_fake, global_step=step\n",
        "                )\n",
        "        writer_real.add_image(\n",
        "            \"Mnist Real Images\", img_grid_real, global_step=step\n",
        "                )\n",
        "        step += 1"
      ],
      "metadata": {
        "colab": {
          "base_uri": "https://localhost:8080/"
        },
        "id": "w60DUoJhnGdb",
        "outputId": "1d3388a8-a8d9-4f73-fc7e-553c53c5e2c2"
      },
      "execution_count": null,
      "outputs": [
        {
          "output_type": "stream",
          "name": "stdout",
          "text": [
            "Epoch [0/50] Batch 0/1875 \\Loss D: 0.5763, loss G: 0.7134\n",
            "Epoch [1/50] Batch 0/1875 \\Loss D: 0.2884, loss G: 1.7365\n",
            "Epoch [2/50] Batch 0/1875 \\Loss D: 0.3590, loss G: 1.2555\n",
            "Epoch [3/50] Batch 0/1875 \\Loss D: 0.2401, loss G: 2.0769\n",
            "Epoch [4/50] Batch 0/1875 \\Loss D: 0.6208, loss G: 0.9404\n",
            "Epoch [5/50] Batch 0/1875 \\Loss D: 0.3656, loss G: 1.7556\n",
            "Epoch [6/50] Batch 0/1875 \\Loss D: 0.7192, loss G: 0.8101\n",
            "Epoch [7/50] Batch 0/1875 \\Loss D: 0.4161, loss G: 1.5343\n",
            "Epoch [8/50] Batch 0/1875 \\Loss D: 0.7290, loss G: 1.1284\n",
            "Epoch [9/50] Batch 0/1875 \\Loss D: 0.6449, loss G: 1.3920\n",
            "Epoch [10/50] Batch 0/1875 \\Loss D: 0.8622, loss G: 1.0441\n",
            "Epoch [11/50] Batch 0/1875 \\Loss D: 0.3679, loss G: 2.0514\n",
            "Epoch [12/50] Batch 0/1875 \\Loss D: 0.5871, loss G: 1.2284\n",
            "Epoch [13/50] Batch 0/1875 \\Loss D: 0.5649, loss G: 1.4849\n",
            "Epoch [14/50] Batch 0/1875 \\Loss D: 0.8450, loss G: 0.9330\n",
            "Epoch [15/50] Batch 0/1875 \\Loss D: 0.7086, loss G: 0.9336\n",
            "Epoch [16/50] Batch 0/1875 \\Loss D: 0.6517, loss G: 1.1530\n",
            "Epoch [17/50] Batch 0/1875 \\Loss D: 0.7819, loss G: 1.0160\n",
            "Epoch [18/50] Batch 0/1875 \\Loss D: 0.7132, loss G: 1.3046\n",
            "Epoch [19/50] Batch 0/1875 \\Loss D: 0.7439, loss G: 1.5278\n",
            "Epoch [20/50] Batch 0/1875 \\Loss D: 0.5812, loss G: 1.8387\n",
            "Epoch [21/50] Batch 0/1875 \\Loss D: 0.3642, loss G: 1.9227\n",
            "Epoch [22/50] Batch 0/1875 \\Loss D: 0.5842, loss G: 1.3727\n",
            "Epoch [23/50] Batch 0/1875 \\Loss D: 0.5637, loss G: 1.3939\n",
            "Epoch [24/50] Batch 0/1875 \\Loss D: 0.5328, loss G: 1.6867\n",
            "Epoch [25/50] Batch 0/1875 \\Loss D: 0.5459, loss G: 1.6669\n",
            "Epoch [26/50] Batch 0/1875 \\Loss D: 0.4851, loss G: 2.3899\n",
            "Epoch [27/50] Batch 0/1875 \\Loss D: 0.4795, loss G: 2.2504\n",
            "Epoch [28/50] Batch 0/1875 \\Loss D: 0.4393, loss G: 2.0752\n",
            "Epoch [29/50] Batch 0/1875 \\Loss D: 0.4289, loss G: 1.8914\n",
            "Epoch [30/50] Batch 0/1875 \\Loss D: 0.5821, loss G: 1.4348\n",
            "Epoch [31/50] Batch 0/1875 \\Loss D: 0.4675, loss G: 1.8404\n",
            "Epoch [32/50] Batch 0/1875 \\Loss D: 0.5479, loss G: 1.3675\n",
            "Epoch [33/50] Batch 0/1875 \\Loss D: 0.5271, loss G: 1.9836\n",
            "Epoch [34/50] Batch 0/1875 \\Loss D: 0.4751, loss G: 2.0139\n",
            "Epoch [35/50] Batch 0/1875 \\Loss D: 0.3088, loss G: 2.0747\n",
            "Epoch [36/50] Batch 0/1875 \\Loss D: 0.5924, loss G: 1.8819\n",
            "Epoch [37/50] Batch 0/1875 \\Loss D: 0.5738, loss G: 1.7752\n",
            "Epoch [38/50] Batch 0/1875 \\Loss D: 0.5435, loss G: 1.9768\n",
            "Epoch [39/50] Batch 0/1875 \\Loss D: 0.6433, loss G: 1.8472\n",
            "Epoch [40/50] Batch 0/1875 \\Loss D: 0.6077, loss G: 1.8638\n",
            "Epoch [41/50] Batch 0/1875 \\Loss D: 0.6660, loss G: 1.6027\n",
            "Epoch [42/50] Batch 0/1875 \\Loss D: 0.5763, loss G: 1.6172\n",
            "Epoch [43/50] Batch 0/1875 \\Loss D: 0.4599, loss G: 1.4096\n",
            "Epoch [44/50] Batch 0/1875 \\Loss D: 0.5725, loss G: 1.5638\n",
            "Epoch [45/50] Batch 0/1875 \\Loss D: 0.5182, loss G: 1.4367\n",
            "Epoch [46/50] Batch 0/1875 \\Loss D: 0.3686, loss G: 2.1485\n",
            "Epoch [47/50] Batch 0/1875 \\Loss D: 0.8276, loss G: 1.0463\n",
            "Epoch [48/50] Batch 0/1875 \\Loss D: 0.4149, loss G: 1.7988\n",
            "Epoch [49/50] Batch 0/1875 \\Loss D: 0.5293, loss G: 1.4609\n"
          ]
        }
      ]
    },
    {
      "cell_type": "code",
      "source": [],
      "metadata": {
        "id": "e1ldeUqxnGgb"
      },
      "execution_count": null,
      "outputs": []
    },
    {
      "cell_type": "code",
      "source": [],
      "metadata": {
        "id": "2x5C7bY3WIs7"
      },
      "execution_count": null,
      "outputs": []
    }
  ]
}